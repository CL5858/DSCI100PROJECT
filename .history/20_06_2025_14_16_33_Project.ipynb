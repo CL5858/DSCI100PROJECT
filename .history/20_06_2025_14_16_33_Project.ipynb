{
 "cells": [
  {
   "cell_type": "markdown",
   "id": "f252dc9d-c820-4d25-b689-b6ca770ca725",
   "metadata": {},
   "source": [
    "# PREDICTING NEWSLETTER SUBSCRIPTION USING PLAYTIME AND EXPERIENCE\n",
    "\n",
    "## Introduction\n",
    "\n",
    "### Background\n",
    "Video games are more than just entertainment. Video games provide communities, hobbies, and even research tools for many users. In order to keep players connected and engaged, game developers often send out newsletters with game updates, special events, and new content. But not everyone signs up. As such, we wish to figure out what kinds of players are most likely to subscribe to game newsletters.\n",
    "\n",
    "One game that remains a staple for all players is a popular sandbox video game known as Minecraft. The game allows players explore, build, and interact in a block-based virtual world.\n",
    "\n",
    "In this project, we use real data from a Minecraft server run up by researchers at UBC. The dataset includes basic information over players, such as their average playtime, age, and whether they subscribed to the newsletter, etc. By exploring this data, we hope to find patterns that can help predict who’s likely to subscribe—something that could be really useful for game devs trying to better reach their audience.\n",
    "\n",
    "### Question\n",
    "Can the total playtime and age predict whether a player subscribes to the newsletter in the Minecraft dataset?\n",
    "\n",
    "### Data Description\n",
    "This project will require the use of the `players.csv` dataset which contains a list of all unique players, including data about each player.\n",
    "The dataset contains 196 observations, and 7 variables.\n",
    "\n",
    "The variables are structured as follows:\n",
    "\n",
    "- `experience`: Character: How experienced the player is.\n",
    "- `subscribe`: Logical: If the player is subscribed to the game newsletter.\n",
    "- `hashedEmail`: Character: Encrypted email of player.\n",
    "- `played_hours`: Double: Total number of hours the player has spent playing the game.\n",
    "- `name`: Character: Name of the player.\n",
    "- `gender`: Character: Gender of the player.\n",
    "- `Age`: Double: Age of the player.\n",
    "\n",
    "### Methods and Results\n",
    "\n",
    "## Step 1: Loading Libraries and Datasets\n",
    "We first load the necessary libraries needed and set the height and width for the plots. As well as loading the `players.csv` dataset that we will be using for the rest of the analysis."
   ]
  },
  {
   "cell_type": "code",
   "execution_count": null,
   "id": "84b8a7ab-5622-4ebf-acb5-f31a8326e587",
   "metadata": {
    "jupyter": {
     "outputs_hidden": true
    }
   },
   "outputs": [],
   "source": [
    "library(tidyverse)\n",
    "library(repr)\n",
    "library(tidymodels)\n",
    "options(repr.plot.width = 10, repr.plot.height = 6)"
   ]
  },
  {
   "cell_type": "code",
   "execution_count": null,
   "id": "e940e1f9-2feb-4354-8312-24d0c4d90630",
   "metadata": {
    "jupyter": {
     "outputs_hidden": true
    }
   },
   "outputs": [],
   "source": [
    "players <- read_csv(\"data/players.csv\")\n",
    "players"
   ]
  },
  {
   "cell_type": "markdown",
   "id": "99687624-52ef-49ac-bc31-4689fa81053b",
   "metadata": {},
   "source": [
    "## Step 2: Wrangling and Cleaning Data\n",
    "\n",
    "In preparation for data analysis, we wrangled and cleaned the data to only contain the necessary variables that are relevant to our analysis."
   ]
  },
  {
   "cell_type": "code",
   "execution_count": null,
   "id": "913777a9-cf7a-4bf7-b536-9573f4f13a8a",
   "metadata": {},
   "outputs": [],
   "source": [
    "wrangled_players <- players |>\n",
    "# Selected only the necessary variables\n",
    "    select(played_hours, Age, subscribe)|>\n",
    "# Arranged the played_hours data to start from highest playtime to lowest\n",
    "    arrange(desc(played_hours))\n",
    "\n",
    "clean_players <- wrangled_players |>\n",
    "# Filtered to skip any rows of played_hours and Age that had missing data (N/A)\n",
    "    filter(!is.na(played_hours), !is.na(Age))|>\n",
    "# Mutated subscribe to make it into a factor\n",
    "    mutate(subscribe = as.factor(subscribe))\n",
    "clean_players"
   ]
  },
  {
   "cell_type": "markdown",
   "id": "24690076-929f-4dfc-94f4-d6e4eef364fd",
   "metadata": {},
   "source": [
    "## Step 3: Summarize the data\n"
   ]
  },
  {
   "cell_type": "code",
   "execution_count": null,
   "id": "72ec3f56-3c43-47f0-86a0-a145d85e2fb1",
   "metadata": {},
   "outputs": [],
   "source": [
    "sum_ <- can_seniors |>\n",
    "  summarize(\n",
    "    pop_mean = mean(age),\n",
    "    pop_med = median(age),\n",
    "    pop_sd = sd(age)\n",
    "  )\n",
    "pop_parameters"
   ]
  }
 ],
 "metadata": {
  "kernelspec": {
   "display_name": "R",
   "language": "R",
   "name": "ir"
  },
  "language_info": {
   "codemirror_mode": "r",
   "file_extension": ".r",
   "mimetype": "text/x-r-source",
   "name": "R",
   "pygments_lexer": "r",
   "version": "4.3.3"
  }
 },
 "nbformat": 4,
 "nbformat_minor": 5
}
